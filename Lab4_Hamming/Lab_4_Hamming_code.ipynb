{
 "cells": [
  {
   "cell_type": "code",
   "execution_count": 2,
   "id": "e0123df3-fa54-45e2-b650-4ddecfd0044b",
   "metadata": {
    "collapsed": false,
    "jupyter": {
     "is_executing": true,
     "outputs_hidden": false
    }
   },
   "outputs": [],
   "source": [
    "from typing import Callable, Dict, List, Tuple, Union\n",
    "import numpy as np\n",
    "import numpy.random as rn\n",
    "from itertools import product\n",
    "from importlib import reload\n",
    "import coursework as cw"
   ]
  },
  {
   "cell_type": "markdown",
   "id": "e1e44a7b-7c8f-4cdb-b255-40c3486a837f",
   "metadata": {
    "id": "e1e44a7b-7c8f-4cdb-b255-40c3486a837f"
   },
   "source": [
    "You wake up to the beeping tune of the radio receiver. There's a pattern to it, a syncopation, that triggers your amydgala. Your heart beats faster. You come to. You realise the year is 2150. The world you live in is one where information is monopolised by technocracy.\n",
    "\n",
    "But you're a member of the Resistance, who fights for the Freedom of Information, and you're on duty at a secret telecommunications tower. You've been expecting a message, but unfortunately, since the atmosphere collapsed, cosmic radiation has been causing you trouble and the message you received is undecipherable. It's not a matter of encryption, no, for encryption has long been close-sourced, and the Resistance hasn't managed to learn anything about it yet. It's simply a matter of errors in the data."
   ]
  },
  {
   "cell_type": "code",
   "execution_count": 4,
   "id": "ae4e9d0f-7e6e-41aa-8548-97ab2c5d756b",
   "metadata": {
    "ExecuteTime": {
     "end_time": "2024-11-21T14:38:48.641268Z",
     "start_time": "2024-11-21T14:38:48.628290Z"
    },
    "colab": {
     "base_uri": "https://localhost:8080/",
     "height": 176
    },
    "id": "ae4e9d0f-7e6e-41aa-8548-97ab2c5d756b",
    "outputId": "bb1a7ea2-0282-477e-eb2b-08096d91dcdc"
   },
   "outputs": [],
   "source": [
    "with open('secret.txt', 'r') as f:\n",
    "    bits = f.read()\n",
    "message = np.array([ int(b) for b in bits ]).astype(int)"
   ]
  },
  {
   "cell_type": "markdown",
   "id": "x0h9QFRyoCzQ",
   "metadata": {
    "id": "x0h9QFRyoCzQ"
   },
   "source": [
    "\n",
    "Thankfully, in the library of sacred texts of Free Information Theory, an old [paper](https://ia802906.us.archive.org/17/items/bstj29-2-147/bstj29-2-147.pdf) from 200 years ago, by one Hamming, seems to contain the solution...\n",
    "\n",
    "\n",
    "# Hamming codes\n",
    "\n",
    "Hamming codes are a set of **error correction** codes that organise the message in blocks, and using redundant bits that store the parity for overlapping segments of each block, they can detect and correct bit-flipping errors. A Hamming code is defined for a number of parity bits $m$, which can encode a message of length $k=2^m-m-1$ data bits into a code of length $n=2^m-1$ including both data and parity bits $(n = k+m)$.\n",
    "\n",
    "For example, the $Hamming(3,1)$ code is the repetition code where each bit is repeated 3 times, thus there are $m=2$ parity bits - which are simply equal to the corresponding data bit. In the $Hamming(7,4)$ code, 4 bits are encoded with $m=3$ parity bits.\n",
    "\n",
    "\n",
    "## Your task\n",
    "\n",
    "Your task is to decode the binary message received from the other Resistance fighters, correct the errors, and restore it to text. You're fairly sure the Hamming code was used but not certain with what number of parity bits.\n",
    "\n",
    "Once you decode the message, since you want to avoid this happening in the future, so you should test the limits of your encoding by implementing a noisy channel, simulating many messages being sent, and running statistics and measures.\n",
    "\n",
    "**Important information**: You are expected to submit your solution as an an updated version of the `coursework.py` file containing your implementation of all functions that currently raise a `NotImplementedError`. Do not edit any other functions. To streamline your development process, you may want to import your solution and use the `reload` function from the `importlib` module frequently, to make sure the latest version of your implementation is loaded.\n",
    "\n",
    "The rest of this notebook will provide more concrete guidelines for implementation. Functions that convert text to a sequence of bits and vice-versa have already been implemented in the system, so you can use them to binary encode and decode your messages. Open `coursework.py`, check out the functions `char2bits`, `bits2char`, `text2bits` and `bits2text`, and make sure you understand them."
   ]
  },
  {
   "cell_type": "markdown",
   "id": "5b2b1ee9-624c-468b-aacf-10f5ebae5370",
   "metadata": {
    "id": "5b2b1ee9-624c-468b-aacf-10f5ebae5370"
   },
   "source": [
    "We can check these work as expected:"
   ]
  },
  {
   "cell_type": "code",
   "execution_count": 7,
   "id": "41a02e4e-8767-442e-96b1-342a618352cf",
   "metadata": {
    "ExecuteTime": {
     "end_time": "2024-11-21T14:44:49.330572Z",
     "start_time": "2024-11-21T14:44:49.274732Z"
    },
    "colab": {
     "base_uri": "https://localhost:8080/",
     "height": 35
    },
    "id": "41a02e4e-8767-442e-96b1-342a618352cf",
    "outputId": "a8f9b620-72b3-44c4-b8c4-157b4331f0a4"
   },
   "outputs": [
    {
     "data": {
      "text/plain": [
       "'hello world'"
      ]
     },
     "execution_count": 7,
     "metadata": {},
     "output_type": "execute_result"
    }
   ],
   "source": [
    "reload(cw)\n",
    "cw.bits2text(cw.text2bits(\"Hello world\"))"
   ]
  },
  {
   "cell_type": "markdown",
   "id": "711bfb8c-3d6e-4ac1-b333-b613f3f985cf",
   "metadata": {
    "id": "711bfb8c-3d6e-4ac1-b333-b613f3f985cf"
   },
   "source": [
    "## On bits and bitwise functions\n",
    "\n",
    "Since Hamming codes are implemented on binary sequences, it is best to work with a bit type. In Python, the `bool` type, consisting of `True` and `False`, can be used for encoding bits.\n",
    "\n",
    "Python also supports bitwise functions: not `~`, and `&`, or `|`,  and xor `^`, which apply to booleans as well as integers.\n",
    "\n",
    "Under the hood, though, Python **casts** these boolean values to `int`, for example, in a sum, which means you can combine `int` and `bool` in the same operation..."
   ]
  },
  {
   "cell_type": "code",
   "execution_count": 9,
   "id": "85a5581c-a868-485b-b427-a77e2a69eb3d",
   "metadata": {
    "ExecuteTime": {
     "end_time": "2024-11-21T14:45:40.886287Z",
     "start_time": "2024-11-21T14:45:40.872217Z"
    },
    "colab": {
     "base_uri": "https://localhost:8080/"
    },
    "id": "85a5581c-a868-485b-b427-a77e2a69eb3d",
    "outputId": "10a9f8da-36ea-45f6-d447-1ed4f510ac97"
   },
   "outputs": [
    {
     "data": {
      "text/plain": [
       "(0, 0, 1, 0, 0, 1)"
      ]
     },
     "execution_count": 9,
     "metadata": {},
     "output_type": "execute_result"
    }
   ],
   "source": [
    "True & 0, 1 & 0, 1 & True, True * 0, True * False, 1 * True"
   ]
  },
  {
   "cell_type": "markdown",
   "id": "a982e01b-8f75-4eca-9142-49d8c28219ee",
   "metadata": {
    "id": "a982e01b-8f75-4eca-9142-49d8c28219ee"
   },
   "source": [
    "You may notice that `&` is the same as `*`, but if you used `+` instead of `|`, or simply `~True`, the underlying integers will be revealed..."
   ]
  },
  {
   "cell_type": "code",
   "execution_count": 11,
   "id": "6708c346-cd10-47a8-9331-9bc66672f733",
   "metadata": {
    "ExecuteTime": {
     "end_time": "2024-11-21T14:45:54.387760Z",
     "start_time": "2024-11-21T14:45:54.372952Z"
    },
    "colab": {
     "base_uri": "https://localhost:8080/"
    },
    "id": "6708c346-cd10-47a8-9331-9bc66672f733",
    "outputId": "0e3f7943-53dd-44af-ca4e-ee9fb9d033e1"
   },
   "outputs": [
    {
     "data": {
      "text/plain": [
       "2"
      ]
     },
     "execution_count": 11,
     "metadata": {},
     "output_type": "execute_result"
    }
   ],
   "source": [
    "True + True"
   ]
  },
  {
   "cell_type": "code",
   "execution_count": 12,
   "id": "A-1w6hcefUbl",
   "metadata": {
    "ExecuteTime": {
     "end_time": "2024-11-21T14:45:55.499013Z",
     "start_time": "2024-11-21T14:45:55.485672Z"
    },
    "colab": {
     "base_uri": "https://localhost:8080/"
    },
    "id": "A-1w6hcefUbl",
    "outputId": "3ace16b8-da07-4138-ed42-ee7e78f9107d"
   },
   "outputs": [
    {
     "data": {
      "text/plain": [
       "-2"
      ]
     },
     "execution_count": 12,
     "metadata": {},
     "output_type": "execute_result"
    }
   ],
   "source": [
    "~True"
   ]
  },
  {
   "cell_type": "markdown",
   "id": "914f9df4-6499-465c-aac7-7c34c365874b",
   "metadata": {
    "id": "914f9df4-6499-465c-aac7-7c34c365874b"
   },
   "source": [
    "### Bit operators\n",
    "\n",
    "The bit operations below apply to both `bool` and `int`:\n",
    "\n",
    "     a or  b = max(a, b)\n",
    "     a and b =  a * b\n",
    "     a xor b = (a + b) % 2\n",
    "       not a =  1 - a\n",
    "\n",
    "We suggest you store your bit sequences as `numpy` arrays so the operators can be broadcast over. For example, to compute the 'not' of an array of bits, you can simply run:"
   ]
  },
  {
   "cell_type": "code",
   "execution_count": 14,
   "id": "hx1xNIAOfQ9Y",
   "metadata": {
    "ExecuteTime": {
     "end_time": "2024-11-21T14:47:46.594696Z",
     "start_time": "2024-11-21T14:47:46.578416Z"
    },
    "colab": {
     "base_uri": "https://localhost:8080/"
    },
    "id": "hx1xNIAOfQ9Y",
    "outputId": "b5e6ae54-60ab-42fc-e6b6-a137097e8fc5"
   },
   "outputs": [
    {
     "data": {
      "text/plain": [
       "array([1, 0, 1, 0])"
      ]
     },
     "execution_count": 14,
     "metadata": {},
     "output_type": "execute_result"
    }
   ],
   "source": [
    "bits = np.array([0,1,0,1])\n",
    "1 - bits"
   ]
  },
  {
   "cell_type": "markdown",
   "id": "WDBHKU35jxPM",
   "metadata": {
    "id": "WDBHKU35jxPM"
   },
   "source": [
    "You may find also find `numpy`'s matrix product (`@`) useful:"
   ]
  },
  {
   "cell_type": "code",
   "execution_count": 16,
   "id": "t4YRO_KNjwOk",
   "metadata": {
    "ExecuteTime": {
     "end_time": "2024-11-21T14:47:55.816471Z",
     "start_time": "2024-11-21T14:47:55.799761Z"
    },
    "colab": {
     "base_uri": "https://localhost:8080/"
    },
    "id": "t4YRO_KNjwOk",
    "outputId": "5cb10f98-52ba-4f43-d280-091274e82f40"
   },
   "outputs": [
    {
     "data": {
      "text/plain": [
       "array([[1., 1., 1., 1.],\n",
       "       [1., 1., 1., 1.],\n",
       "       [1., 1., 1., 1.]])"
      ]
     },
     "execution_count": 16,
     "metadata": {},
     "output_type": "execute_result"
    }
   ],
   "source": [
    "id = np.identity(4)\n",
    "ones = np.ones((3,4))\n",
    "\n",
    "m = ones @ id\n",
    "m"
   ]
  },
  {
   "cell_type": "markdown",
   "id": "lmwZ63v8cLIh",
   "metadata": {
    "id": "lmwZ63v8cLIh"
   },
   "source": [
    "Be careful about **types**! Operations like multiplication or mod will yield `float` numbers (as you can see, in the matrix above). It is best you cast everything to `int` or, if you like to work with `bool`, then to be safe cast as `int` first, like below:"
   ]
  },
  {
   "cell_type": "code",
   "execution_count": 18,
   "id": "OkKaXZJ2cvsz",
   "metadata": {
    "ExecuteTime": {
     "end_time": "2024-11-21T14:48:36.124452Z",
     "start_time": "2024-11-21T14:48:36.107864Z"
    },
    "colab": {
     "base_uri": "https://localhost:8080/"
    },
    "id": "OkKaXZJ2cvsz",
    "outputId": "0377a672-bb2b-4ae8-ed10-db96aec3cdd2"
   },
   "outputs": [
    {
     "data": {
      "text/plain": [
       "array([[ True, False, False, False],\n",
       "       [False,  True, False, False],\n",
       "       [False, False,  True, False],\n",
       "       [False, False, False,  True]])"
      ]
     },
     "execution_count": 18,
     "metadata": {},
     "output_type": "execute_result"
    }
   ],
   "source": [
    "id.astype(int).astype(bool)"
   ]
  },
  {
   "cell_type": "markdown",
   "id": "Buz1bHQzfbSY",
   "metadata": {
    "id": "Buz1bHQzfbSY"
   },
   "source": [
    "### Bit parity\n",
    "\n",
    "The parity of a bit sequence is given by the number of `1`s in the sequence. Normally, the parity of a sequence is `0` if there's an even number of `1`'s, and is `1` if there is an odd number of `1`'s. A **parity bit** for a binary sequence, thus, indicates whether the parity of that sequence is odd or even. Calculating parity can be done by simply counting the number of bits, or by using..."
   ]
  },
  {
   "cell_type": "markdown",
   "id": "cd59d571-71ea-4f8e-b355-3fb3bd313996",
   "metadata": {
    "id": "cd59d571-71ea-4f8e-b355-3fb3bd313996"
   },
   "source": [
    "### Bit masking\n",
    "\n",
    "A **bit mask** is a sequence of bits that is used to set, extract or toggle specific bits form an array. The bits that are set, extracted or toggled are at the same position as the `1`s in the mask. For example:\n",
    "\n",
    "- The `and`-mask will **extract** all bits at positions that hold a `1`.\n",
    "- The `xor`-mask will **toggle** all bits at positions that hold a `1`.\n",
    "\n",
    "You may find `and`-masking useful to select the groups of bits in the block to compute parity for. Summing the result yields the parity for that group of bits."
   ]
  },
  {
   "cell_type": "code",
   "execution_count": 21,
   "id": "f75caacf-d176-4811-b141-a2e8824eb079",
   "metadata": {
    "ExecuteTime": {
     "end_time": "2024-11-21T14:54:42.526577Z",
     "start_time": "2024-11-21T14:54:42.518824Z"
    },
    "id": "f75caacf-d176-4811-b141-a2e8824eb079"
   },
   "outputs": [],
   "source": [
    "mask  = np.array([0,1,1,1])\n",
    "value = np.array([1,0,1,1])"
   ]
  },
  {
   "cell_type": "code",
   "execution_count": 22,
   "id": "uBsJq5_2fuGs",
   "metadata": {
    "ExecuteTime": {
     "end_time": "2024-11-21T14:54:43.668848Z",
     "start_time": "2024-11-21T14:54:43.655835Z"
    },
    "colab": {
     "base_uri": "https://localhost:8080/"
    },
    "id": "uBsJq5_2fuGs",
    "outputId": "9ddc1c0e-b671-4cd5-ebcf-911029e10494"
   },
   "outputs": [
    {
     "data": {
      "text/plain": [
       "(array([0, 0, 1, 1]), array([1, 1, 0, 0]))"
      ]
     },
     "execution_count": 22,
     "metadata": {},
     "output_type": "execute_result"
    }
   ],
   "source": [
    "mask & value, mask ^ value"
   ]
  },
  {
   "cell_type": "markdown",
   "id": "36VMoP73fw58",
   "metadata": {
    "id": "36VMoP73fw58"
   },
   "source": [
    "# Task 1a\n",
    "## Hamming encoding\n",
    "\n",
    "The first task is to create a Hamming code for a given number of parity bits $m$ and use it to encode $2^m-m-1$ bits into a code of length $2^m-1$. The Hamming code is built from bits of the original message, called **data bits**, added in between **parity bits** that cover specific groups of data bits. These parity bits function as a \"checksum\" to check the integrity of the original message.\n",
    "\n",
    "The most elegant way to compute the Hamming code is to use a **generator matrix** $\\mathbf{G}$ of size $(k, n)$, which maps data vectors to codewords, taking advantage of the formulation of the `XOR` function as a sum modulo two. Then the codeword is given by multiplying the matrix by the message (refered to as the **source**), as such:\n",
    "\n",
    "$$\\mathbf{t} = G^\\top \\mathbf{s} \\mod 2$$\n",
    "\n",
    "Here is an illustration of how the parity bits in a $Hamming(7,4)$ are used:\n",
    "\n",
    "![](https://upload.wikimedia.org/wikipedia/commons/thumb/b/b0/Hamming%287%2C4%29.svg/450px-Hamming%287%2C4%29.svg.png)\n",
    "\n",
    "- p1 covers d1, d2, d4\n",
    "- p2 covers d1, d3, d4\n",
    "- p3 covers d2, d3, d4\n",
    "\n",
    "These are usually arranged as $\\{p_1, p_2, d_1, p_3, d_2, d_3, d_4\\}$.\n",
    "\n",
    "\n",
    "**In general**, for any $Hamming(n, k)$ code, parity bits $1, 2, ..., m$ are always placed at positions given by $2^0, 2^1... 2^{m-1}$.\n",
    "\n",
    "\n",
    "\n",
    "\n",
    "### Your implementation\n",
    "\n",
    "The first step is finding the positions covered by each parity bit. This will be useful for both encoding and decoding. Stacking all the positions covered by each of the $m$ parity bits produces the **parity check matrix**. The parity check matrix, usually denoted by $H$, has size $(m, n)$ and is constructed such that $H_{ij}=1$ if parity bit $i$ covers codeword bit $j$.\n",
    "\n",
    "**In the general case**, parity bit $i$ will cover $2^i$ bits, then skip $2^i$ bits, starting at position $2^{i-1}$ and until the end of the block. By looking at the parity check matrix for $Hamming(7,4)$, you should be able to spot the more general pattern:\n",
    "\n",
    "$$H = \\begin{pmatrix}\n",
    "1 & 0 & 1 & 0 & 1 & 0 & 1 \\\\\n",
    "0 & 1 & 1 & 0 & 0 & 1 & 1 \\\\\n",
    "0 & 0 & 0 & 1 & 1 & 1 & 1\n",
    "\\end{pmatrix}$$\n",
    "\n",
    "Once you have implemented a function to create the parity check matrix, you can use it to easily create the generator matrix. The generator matrix of size $(k,n)$ can be constructed as follows:\n",
    "\n",
    "* The data columns of the generator are the $k\\times k$ identity matrix.\n",
    "* The parity columns of the generator are the data rows of $H^\\top$.\n",
    "\n",
    "As an example, the generator matrix for the $Hamming(7,4)$ code is:\n",
    "\n",
    "$$G = \\begin{pmatrix}\n",
    "1 & 1 & 1 & 0 & 0 & 0 & 0 \\\\\n",
    "1 & 0 & 0 & 1 & 1 & 0 & 0 \\\\\n",
    "0 & 1 & 0 & 1 & 0 & 1 & 0 \\\\\n",
    "1 & 1 & 0 & 1 & 0 & 0 & 1 \\\\\n",
    "\\end{pmatrix}$$\n",
    "\n",
    "You may choose to implement your code through matrix multiplication operation on binary codes, or by looping through the $n$ positions in the target and using Boolean and/or string operations. Implementation is up to you, but in both cases, starting with the parity positions is useful. You can check that your implementation behaves as expected by multiplying the $m=3$ Hamming generator times all 16 binary vectors of length $k=4$ and checking that the resulting codewords match those in the first slide of the \"Hamming codes\" section of the lecture notes.\n",
    "\n",
    "**Task**: Implement a function that returns the parity check matrix for a given number of parity bits $m$, another function that returns the generator matrix, and another function to encode a data vector for any number of parity bits $m$. Remember reloading your solution frequently as you implement it."
   ]
  },
  {
   "cell_type": "code",
   "execution_count": 24,
   "id": "67adacda-19ee-4ea7-89b6-dbab77a41927",
   "metadata": {},
   "outputs": [
    {
     "data": {
      "text/plain": [
       "array([False,  True,  True, False, False,  True,  True])"
      ]
     },
     "execution_count": 24,
     "metadata": {},
     "output_type": "execute_result"
    }
   ],
   "source": [
    "reload(cw)\n",
    "\n",
    "# For some integer m and some np.ndarray data, you should be able to call:\n",
    "# cw.parity_matrix(m)\n",
    "# cw.hamming_generator(m)\n",
    "# cw.hamming_encode(data, m)\n",
    "s = np.array([1,0,1,1], dtype=bool)\n",
    "cw.hamming_encode(s, 3)"
   ]
  },
  {
   "cell_type": "markdown",
   "id": "Kya6-C7Rg-R7",
   "metadata": {
    "id": "Kya6-C7Rg-R7"
   },
   "source": [
    "# Task 1b\n",
    "## Error checking\n",
    "\n",
    "The next task is to check for errors in a Hamming-encoded message.\n",
    "\n",
    "Suppose you have a received codeword $\\mathbf{r}$ which is the Hamming encoding of data block $\\mathbf{s}$, possibly subject to noise. Extracting the data bits from their corresponding positions _should_ give back $\\mathbf{s}$, but since it is possible that errors may have occured, we denote this $\\mathbf{s'}$. The error checking consists of computing the parity bits again on $\\mathbf{s'}$, and checking they match with the parity bits  in $\\mathbf{r}$, for example by `and`-masking. If they do, then it means in $\\mathbf{s}=\\mathbf{s'}$.\n",
    "\n",
    "The elegant way presented by Hamming in his paper is done with the parity check matrix $H$. Multiplying the codeword with the parity check matrix produces a **syndrome** vector $\\mathbf{z}$, such that\n",
    "\n",
    "$$\\mathbf{z} = H \\mathbf{r}$$\n",
    "\n",
    "Depending on how many bit-flips happened during the noisy channel communication, this vector can look differently:\n",
    "\n",
    "- If there are no errors, the syndrome is 0 everywhere, and decoding can proceed by extracting the data bits from the codeword.\n",
    "- If there is exactly one error, the syndrome will have non-zero entries but we will be able to correct the error. Once the position of the bit flip has been determined, the bit can be flipped again and the data bits extracted as in the previous point.\n",
    "- If there are two or more errors, the code is unable to detect or correct the errors.\n",
    "\n",
    "Hamming designed the codes with parity bits ordered in this way because in the case of a single bit flip, the syndrome actually encodes the position of the flipped bit. Suppose the syndrome in $Hamming(7,4)$ is $[1,1,0]^T$. Then the bit flip had occured on position 3!\n",
    "\n",
    "**Task**: Implement a function that can decode a codeword from a Hamming code with any $m$, while correcting single bit flip errors. Remember reloading your solution frequently as you implement it.\n"
   ]
  },
  {
   "cell_type": "code",
   "execution_count": 26,
   "id": "GckaBHZwlgRu",
   "metadata": {
    "id": "GckaBHZwlgRu"
   },
   "outputs": [
    {
     "data": {
      "text/plain": [
       "<module 'coursework' from 'S:\\\\python\\\\hamming_code_cw\\\\Lab4_Hamming\\\\coursework.py'>"
      ]
     },
     "execution_count": 26,
     "metadata": {},
     "output_type": "execute_result"
    }
   ],
   "source": [
    "reload(cw)\n",
    "\n",
    "# For some integer m and some np.ndarray code, you should be able to call:\n",
    "# cw.hamming_decode(code, m)"
   ]
  },
  {
   "cell_type": "markdown",
   "id": "t0jOYiFlnvw4",
   "metadata": {
    "id": "t0jOYiFlnvw4"
   },
   "source": [
    "To check your implementation succeeded, at least for error-less codes, you may check that:"
   ]
  },
  {
   "cell_type": "code",
   "execution_count": 28,
   "id": "lmN7OuZboPAT",
   "metadata": {
    "id": "lmN7OuZboPAT"
   },
   "outputs": [],
   "source": [
    "s = np.array([1,0,1,1], dtype=bool)\n",
    "# n1 = np.array([0, 0, 0, 0, 0, 1, 0])\n",
    "# n2 = np.array([0, 1, 0, 0, 0, 0, 0])\n",
    "# n2 = np.array([0, 0, 1, 0, 1, 0, 0])\n",
    "\n",
    "assert(all(cw.hamming_decode(cw.hamming_encode(s, 3), 3) == s))"
   ]
  },
  {
   "cell_type": "markdown",
   "id": "LhQ8J9fhybyn",
   "metadata": {
    "id": "LhQ8J9fhybyn"
   },
   "source": [
    "You may also test cases with one and two bit flips to check your implementation behaves as expected.\n",
    "\n",
    "Make sure you explicitly **copy** the code when flipping the bits, otherwise the original array containing the code will be affected too."
   ]
  },
  {
   "cell_type": "code",
   "execution_count": 30,
   "id": "ABSXslfwe34p",
   "metadata": {
    "colab": {
     "base_uri": "https://localhost:8080/"
    },
    "id": "ABSXslfwe34p",
    "outputId": "f26f6e23-9633-4cd8-f8c2-347459ade216"
   },
   "outputs": [
    {
     "data": {
      "text/plain": [
       "array([ True, False,  True,  True])"
      ]
     },
     "execution_count": 30,
     "metadata": {},
     "output_type": "execute_result"
    }
   ],
   "source": [
    "s = np.array([1,0,1,1], dtype=bool)\n",
    "t = cw.hamming_encode(s, 3)\n",
    "r = t.copy()\n",
    "r[2] = 1 - r[2]\n",
    "s2 = cw.hamming_decode(r, 3)\n",
    "s2"
   ]
  },
  {
   "cell_type": "code",
   "execution_count": 31,
   "id": "YiSEizfLl8ja",
   "metadata": {
    "colab": {
     "base_uri": "https://localhost:8080/"
    },
    "id": "YiSEizfLl8ja",
    "outputId": "d8b9eb84-b5ff-443b-a534-f3fb2d4ec01b"
   },
   "outputs": [
    {
     "data": {
      "text/plain": [
       "array([ True, False,  True,  True])"
      ]
     },
     "execution_count": 31,
     "metadata": {},
     "output_type": "execute_result"
    }
   ],
   "source": [
    "r[0] = 1 - r[0]\n",
    "s2 = cw.hamming_decode(r, 3)\n",
    "s2"
   ]
  },
  {
   "cell_type": "markdown",
   "id": "iTySUTJvmlgp",
   "metadata": {
    "id": "iTySUTJvmlgp"
   },
   "source": [
    "# Task 1c\n",
    "## Decoding\n",
    "\n",
    "It is finally time to discover the message the Resistance has sent to you, loaded at the beginning of this notebook in `message`.\n",
    "\n",
    "Split `message` in chunks of length $2^m-1$ and try out `hamming_decode`, with different $m$'s. Flatten the output and pass it through `bin2text`.\n",
    "\n",
    "What was the original $m$ used to encode this file? What does the text say?\n",
    "\n",
    "**Task**: Find the original $m$ that was used to encode `secret.txt`. Write a function to load the text, split it in chunks of $n=2^m-1$, decode it, flatten it, convert it to text and return the resulting text. Remember reloading your solution frequently as you implement it.\n"
   ]
  },
  {
   "cell_type": "code",
   "execution_count": 33,
   "id": "PgYX3cU-oM21",
   "metadata": {
    "id": "PgYX3cU-oM21"
   },
   "outputs": [
    {
     "data": {
      "text/plain": [
       "<module 'coursework' from 'S:\\\\python\\\\hamming_code_cw\\\\Lab4_Hamming\\\\coursework.py'>"
      ]
     },
     "execution_count": 33,
     "metadata": {},
     "output_type": "execute_result"
    }
   ],
   "source": [
    "reload(cw)\n",
    "\n",
    "# For some np.ndarray msg, you should be able to call:\n",
    "# cw.decode_secret(msg)"
   ]
  },
  {
   "cell_type": "code",
   "execution_count": 108,
   "id": "6c24a843-535c-47dd-b73c-08a4344a440d",
   "metadata": {
    "id": "6c24a843-535c-47dd-b73c-08a4344a440d"
   },
   "outputs": [
    {
     "name": "stdout",
     "output_type": "stream",
     "text": [
      "the bell system technical journal\n",
      "vol. xx, april, 1950, no. 2\n",
      "error detecting and error correcting codes\n",
      "by r. w. hamming\n",
      "1. introduction\n",
      "he author was\"ìed to the studyªgiven in this paper from a consideration of large scale computing machines in which a large number of\n",
      "operations must be performed without a single error in the end result- this\n",
      "problem of dÏing things right on a large scale is not essentially new in a\n",
      "telephone central office, for example, a very large nuiber of operations are\n",
      "performed w(\tle the errors leading to wrong numbers are kept wedl under\n",
      "control, though they have not been completely eliminated. thkS has been\n",
      "\n",
      "achieved, in part, through the use of selfchecking circuits. the occasional\n",
      "failure that escapes routine checking is still detected by the customer and\n",
      "will, if it persists, result in customer complaint, while if it is transient it will\n",
      "produce only occasional wrong numbers. at the same time the rest of the\n",
      "central office functions satisfactorily. in a digital computer, on the other\n",
      "hand, a single failure usually means the compdete failure, in the sense that\n",
      "if it is detected no more computing can be done until the failure is located\n",
      "\n",
      "and corrected, while if it escapes detection then iw invcMidates all subsequent\n",
      "operations of the machine. pu| in other words, in a telet`one central office\n",
      "there are a number of parallel paths which are more or L%ss independent of\n",
      "each other in a digital machine there is usually a single long path which\n",
      "passes through the same piece of equipment many, many times before tH-\n",
      "answer is obtained.\n",
      "in transmitting information from one place to another digital machines\n",
      "use codes which are simply sets of symbols to which meanings or values are\n",
      "attached. examples of codes which were designed to detect isolapcd errors\n",
      "are numerous among them are the highly developed 2 out of 5 codes used\n",
      "extensively in common control switching systems and in the bell relay\n",
      "\n",
      "\n",
      "computers, the 3 out of 7 code used for radio telegraphy, and the word\n",
      "count sent at the end of telegrams.\n",
      "\n",
      "in some situations self chgCking is not enough. for example, in the model\n",
      "5 relay computers built by bell telephone laboratories for the aberdeen\n",
      "proving grounds, observations in the¨early period indicated about two\n",
      "or three relay failures per day in the 8900 relays of the two computers, representing about one failure per two to three million relay operations. the self\n",
      "\n",
      "checking feature meant that these failures did not introduce undetected\n",
      "errors. since the machines were run on an unattended basis over nights and\n",
      "weekends, however, the errors meant that frequently the computations\n",
      "came tn a halt althoumh often the machines took up new problems. the\n",
      "present trend is toward electronic speews in di_ital computers vhere the\n",
      "basic elements are somewhat more reliablm per operation than relays. however, the incidenc\u0004 of isolated failures, even ehen detected, may seriously\n",
      "interfere with the normal use of such machines. thus it appears desirable\n",
      "to examine the next step beyond error detection, namely esBor correction.\n",
      "we shall assume that the transmitting equipment handles information\n",
      "in the binary form of a sequence of 0s and(±s. this assumption is made\n",
      "\n",
      "both for mathematical convenience and because the binary system is the\n",
      "natural form for representing the open and closed relays, fl)ðflop cirbUits,\n",
      "dots and dashes, and\n"
     ]
    }
   ],
   "source": [
    "print(cw.decode_secret(message))"
   ]
  },
  {
   "cell_type": "markdown",
   "id": "33d6fd2a-ee9b-4af9-afdf-79930b18a296",
   "metadata": {
    "id": "33d6fd2a-ee9b-4af9-afdf-79930b18a296"
   },
   "source": [
    "# Task 2a\n",
    "## The noisy channel\n",
    "\n",
    "To test your Hamming code in practice, you should simulate a binary symmetric channel with noise. Write a function that takes an array of bits and flips some of its bits with probability $p$.\n",
    "\n",
    "To simulate the noise, you should use random numbers from the `numpy.random` module.\n",
    "\n",
    "**Task**: Write a function returning a random output from a binary symmetric channel with probability $p$. Remember reloading your solution frequently as you implement it."
   ]
  },
  {
   "cell_type": "code",
   "execution_count": 111,
   "id": "qO6ylTz8pisT",
   "metadata": {
    "id": "qO6ylTz8pisT"
   },
   "outputs": [
    {
     "data": {
      "text/plain": [
       "<module 'coursework' from 'S:\\\\python\\\\hamming_code_cw\\\\Lab4_Hamming\\\\coursework.py'>"
      ]
     },
     "execution_count": 111,
     "metadata": {},
     "output_type": "execute_result"
    }
   ],
   "source": [
    "reload(cw)\n",
    "\n",
    "# For some np.ndarray data and some float p, you should be able to call:\n",
    "# cw.binary_symmetric_channel(data, p)"
   ]
  },
  {
   "cell_type": "markdown",
   "id": "JHxEmOZto6LK",
   "metadata": {
    "id": "JHxEmOZto6LK"
   },
   "source": [
    "# Task 2b\n",
    "## Decoder accuracy\n",
    "\n",
    "Now you may use the noisy channel to test the accuracy of your Hamming decoder.\n",
    "\n",
    "For starters, you may set various values for probability $p$ (say, between 0.0 and 0.5) and number of parity bits $m$, then generate a large number (at least 1000) of codewords at random, and pass them through the channel. What is the probability that the decoder returns the correct source codeword, for each $p$ and $m$?\n",
    "\n",
    "To test your implementation, you should check that the decoding probability is always 1 for noise probability 0, and always close to 0 (though not strictly zero) for noise probability 0.5.\n",
    "\n",
    "**Task**: Implement a function that returns the decoder accuracy of a Hamming code with $m$ parity bits on a binary symmetric channel with probability $p$. Remember reloading your solution frequently as you implement it."
   ]
  },
  {
   "cell_type": "code",
   "execution_count": 143,
   "id": "b9f85b2a-4e8f-4263-85fd-b99bd557751c",
   "metadata": {
    "id": "g8cslmdCtm_u",
    "scrolled": true
   },
   "outputs": [
    {
     "data": {
      "text/plain": [
       "<module 'coursework' from 'S:\\\\python\\\\hamming_code_cw\\\\Lab4_Hamming\\\\coursework.py'>"
      ]
     },
     "execution_count": 143,
     "metadata": {},
     "output_type": "execute_result"
    }
   ],
   "source": [
    "reload(cw)\n",
    "# For some integer m and some float p, you should be able to call:\n",
    "# cw.decoder_accuracy(m, p)"
   ]
  },
  {
   "cell_type": "markdown",
   "id": "1a94a612-5839-47c3-aee5-a9497c907379",
   "metadata": {},
   "source": [
    "# Task 2c\n",
    "## Visualising results\n",
    "\n",
    "Using the results of tasks 2a and 2b, you should now be able to visualise the accuracy of the Hamming code through a binary symmetric channel.\n",
    "\n",
    "**Task**: Submit a `report.pdf` file containing two sections:\n",
    "1. In Section 1, analytically calculate the accuracy of a Hamming code with $m$ parity bits through a completely noisy ($p=0.5$) binary symmetric channel. Report your calculations, and show your derivation agrees with numerical results for $m=2, 3, 4$.\n",
    "1. In Section 2, show the relationship between the noise level $p$ and the decoder accuracy for $0<p<0.5$. Make three plots, one for each value of $m=2, 3, 4$. What conclusions can you obtain?"
   ]
  },
  {
   "cell_type": "code",
   "execution_count": null,
   "id": "673b3eec-7f0b-47a5-919d-29732be0a926",
   "metadata": {},
   "outputs": [],
   "source": []
  }
 ],
 "metadata": {
  "colab": {
   "provenance": []
  },
  "kernelspec": {
   "display_name": "Python 3 (ipykernel)",
   "language": "python",
   "name": "python3"
  },
  "language_info": {
   "codemirror_mode": {
    "name": "ipython",
    "version": 3
   },
   "file_extension": ".py",
   "mimetype": "text/x-python",
   "name": "python",
   "nbconvert_exporter": "python",
   "pygments_lexer": "ipython3",
   "version": "3.12.3"
  }
 },
 "nbformat": 4,
 "nbformat_minor": 5
}
